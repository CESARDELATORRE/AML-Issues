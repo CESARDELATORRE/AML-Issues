{
 "cells": [
  {
   "cell_type": "code",
   "execution_count": 2,
   "metadata": {},
   "outputs": [],
   "source": [
    "import numpy as np\n",
    "import pandas as pd\n",
    "\n",
    "pd.set_option('display.max_columns', None)\n",
    "\n",
    "pd.set_option('display.max_rows', 10)"
   ]
  },
  {
   "cell_type": "code",
   "execution_count": 37,
   "metadata": {},
   "outputs": [],
   "source": [
    "import warnings\n",
    "import logging\n",
    "import os\n",
    "from azureml.automl.core.onnx_convert import OnnxInferenceHelper\n",
    "import json\n",
    "import time"
   ]
  },
  {
   "cell_type": "code",
   "execution_count": 21,
   "metadata": {},
   "outputs": [],
   "source": [
    "from azureml.automl.core.onnx_convert import OnnxInferenceHelper\n",
    "from typing import Any, Tuple\n",
    "from numpy import ndarray\n",
    "\n",
    "\n",
    "class OnnxModelWrapper:\n",
    "    \"\"\"\n",
    "        helper class for prediction when using onnx model\n",
    "    \"\"\"\n",
    "    def __init__(self, onnx_model_bytes: bytes, onnx_input_map: dict):\n",
    "        \"\"\"\n",
    "        :param onnx_model_bytes: the onnx model in bytes\n",
    "        :param onnx_input_map: the onnx_resource dictionary\n",
    "        \"\"\"\n",
    "        self.onnx_model_bytes = onnx_model_bytes\n",
    "        self.onnx_input_map = onnx_input_map\n",
    "        self.wrapper_model = OnnxInferenceHelper(self.onnx_model_bytes, self.onnx_input_map)\n",
    "\n",
    "    def predict(self, X) -> Tuple[Any, Any]:\n",
    "        \"\"\"\n",
    "        predict by using OnnxInferenceHelper\n",
    "        :param X: features to predict\n",
    "        :returns tuple of <label, prob>\n",
    "        \"\"\"\n",
    "        return self.wrapper_model.predict(X)\n",
    "\n",
    "    def predict_proba(self, X) -> ndarray:\n",
    "        \"\"\"\n",
    "        predict proba by using OnnxInferenceHelper\n",
    "        :param X: features to predict\n",
    "        :returns ndarray of prob\n",
    "        \"\"\"\n",
    "        _, y_prob = self.wrapper_model.predict(X, with_prob=True)\n",
    "        return y_prob\n"
   ]
  },
  {
   "cell_type": "code",
   "execution_count": 22,
   "metadata": {},
   "outputs": [],
   "source": [
    "onnx_model_file = open('onnx.model', 'rb')\n",
    "onnx_res_file = open('onnx.res', 'r')\n",
    "onnx_model_data = onnx_model_file.read()\n",
    "onnx_res_data = onnx_res_file.read()"
   ]
  },
  {
   "cell_type": "code",
   "execution_count": 23,
   "metadata": {},
   "outputs": [],
   "source": [
    "onnxrt_wrapper = OnnxModelWrapper(onnx_model_data, json.loads(onnx_res_data))"
   ]
  },
  {
   "cell_type": "code",
   "execution_count": 24,
   "metadata": {},
   "outputs": [],
   "source": [
    "filepath = 'invoice.csv'\n",
    "data_df = pd.read_csv(filepath)"
   ]
  },
  {
   "cell_type": "code",
   "execution_count": 43,
   "metadata": {},
   "outputs": [
    {
     "data": {
      "text/html": [
       "<div>\n",
       "<style scoped>\n",
       "    .dataframe tbody tr th:only-of-type {\n",
       "        vertical-align: middle;\n",
       "    }\n",
       "\n",
       "    .dataframe tbody tr th {\n",
       "        vertical-align: top;\n",
       "    }\n",
       "\n",
       "    .dataframe thead th {\n",
       "        text-align: right;\n",
       "    }\n",
       "</style>\n",
       "<table border=\"1\" class=\"dataframe\">\n",
       "  <thead>\n",
       "    <tr style=\"text-align: right;\">\n",
       "      <th></th>\n",
       "      <th>INVOICECUSTTRANSRECID</th>\n",
       "      <th>WASDISPUTED_VALUE</th>\n",
       "      <th>ROW_UNIQUEKEY</th>\n",
       "      <th>ISCLOSED_VALUE</th>\n",
       "      <th>TRANSTYPE</th>\n",
       "      <th>PAYMENTSCHEDULEID</th>\n",
       "      <th>CASHDISCOUNTCODE</th>\n",
       "      <th>RECID</th>\n",
       "      <th>ACCOUNTINGCURRENCY</th>\n",
       "      <th>WASCOLLECTIONLETTERSENT</th>\n",
       "      <th>...</th>\n",
       "      <th>InvoiceAccount.MEAN(Invoice.ROW_UNIQUEKEY)</th>\n",
       "      <th>InvoiceAccount.MEAN(Invoice.ISCLOSED_VALUE)</th>\n",
       "      <th>InvoiceAccount.MEAN(Invoice.RECID)</th>\n",
       "      <th>InvoiceAccount.MEAN(Invoice.CASHDISCOUTPERCENT)</th>\n",
       "      <th>InvoiceAccount.MEAN(Invoice.WASCOLLECTIONLETTERSENT_VALUE)</th>\n",
       "      <th>InvoiceAccount.MEAN(Invoice.CUSTOMERRECID)</th>\n",
       "      <th>InvoiceAccount.MEAN(Invoice.INVOICEAMOUNTACCOUNTING)</th>\n",
       "      <th>InvoiceAccount.MEAN(Invoice.TRANSTYPE_VALUE)</th>\n",
       "      <th>InvoiceAccount.COUNT(Invoice)</th>\n",
       "      <th>InvoiceAccount.NUM_CHARACTERS(CUSTOMERID)</th>\n",
       "    </tr>\n",
       "  </thead>\n",
       "  <tbody>\n",
       "    <tr>\n",
       "      <th>0</th>\n",
       "      <td>5637144576</td>\n",
       "      <td>0</td>\n",
       "      <td>720</td>\n",
       "      <td>1</td>\n",
       "      <td>5</td>\n",
       "      <td>1</td>\n",
       "      <td>5</td>\n",
       "      <td>5637144576</td>\n",
       "      <td>11</td>\n",
       "      <td>0</td>\n",
       "      <td>...</td>\n",
       "      <td>2986.29</td>\n",
       "      <td>1.00</td>\n",
       "      <td>5637145550</td>\n",
       "      <td>0.00</td>\n",
       "      <td>0.00</td>\n",
       "      <td>22565421558</td>\n",
       "      <td>319015.35</td>\n",
       "      <td>2.00</td>\n",
       "      <td>24</td>\n",
       "      <td>6</td>\n",
       "    </tr>\n",
       "    <tr>\n",
       "      <th>1</th>\n",
       "      <td>5637144577</td>\n",
       "      <td>0</td>\n",
       "      <td>740</td>\n",
       "      <td>1</td>\n",
       "      <td>5</td>\n",
       "      <td>1</td>\n",
       "      <td>5</td>\n",
       "      <td>5637144577</td>\n",
       "      <td>11</td>\n",
       "      <td>0</td>\n",
       "      <td>...</td>\n",
       "      <td>3423.28</td>\n",
       "      <td>0.90</td>\n",
       "      <td>15372649960</td>\n",
       "      <td>0.00</td>\n",
       "      <td>0.14</td>\n",
       "      <td>22565421559</td>\n",
       "      <td>395029.40</td>\n",
       "      <td>3.21</td>\n",
       "      <td>29</td>\n",
       "      <td>6</td>\n",
       "    </tr>\n",
       "    <tr>\n",
       "      <th>2</th>\n",
       "      <td>5637144578</td>\n",
       "      <td>0</td>\n",
       "      <td>763</td>\n",
       "      <td>1</td>\n",
       "      <td>5</td>\n",
       "      <td>1</td>\n",
       "      <td>5</td>\n",
       "      <td>5637144578</td>\n",
       "      <td>11</td>\n",
       "      <td>0</td>\n",
       "      <td>...</td>\n",
       "      <td>3307.62</td>\n",
       "      <td>1.00</td>\n",
       "      <td>5637145552</td>\n",
       "      <td>0.00</td>\n",
       "      <td>0.00</td>\n",
       "      <td>22565421560</td>\n",
       "      <td>301095.21</td>\n",
       "      <td>2.00</td>\n",
       "      <td>24</td>\n",
       "      <td>6</td>\n",
       "    </tr>\n",
       "    <tr>\n",
       "      <th>3</th>\n",
       "      <td>5637144579</td>\n",
       "      <td>0</td>\n",
       "      <td>782</td>\n",
       "      <td>1</td>\n",
       "      <td>5</td>\n",
       "      <td>1</td>\n",
       "      <td>5</td>\n",
       "      <td>5637144579</td>\n",
       "      <td>11</td>\n",
       "      <td>0</td>\n",
       "      <td>...</td>\n",
       "      <td>4385.50</td>\n",
       "      <td>0.93</td>\n",
       "      <td>12395974712</td>\n",
       "      <td>0.00</td>\n",
       "      <td>0.07</td>\n",
       "      <td>22565421562</td>\n",
       "      <td>182984.92</td>\n",
       "      <td>2.82</td>\n",
       "      <td>28</td>\n",
       "      <td>6</td>\n",
       "    </tr>\n",
       "    <tr>\n",
       "      <th>4</th>\n",
       "      <td>5637144580</td>\n",
       "      <td>0</td>\n",
       "      <td>802</td>\n",
       "      <td>1</td>\n",
       "      <td>5</td>\n",
       "      <td>1</td>\n",
       "      <td>5</td>\n",
       "      <td>5637144580</td>\n",
       "      <td>11</td>\n",
       "      <td>0</td>\n",
       "      <td>...</td>\n",
       "      <td>4533.59</td>\n",
       "      <td>0.96</td>\n",
       "      <td>10309914194</td>\n",
       "      <td>0.00</td>\n",
       "      <td>0.00</td>\n",
       "      <td>22565421563</td>\n",
       "      <td>80743.67</td>\n",
       "      <td>2.44</td>\n",
       "      <td>27</td>\n",
       "      <td>6</td>\n",
       "    </tr>\n",
       "  </tbody>\n",
       "</table>\n",
       "<p>5 rows × 67 columns</p>\n",
       "</div>"
      ],
      "text/plain": [
       "   INVOICECUSTTRANSRECID  WASDISPUTED_VALUE  ROW_UNIQUEKEY  ISCLOSED_VALUE  \\\n",
       "0             5637144576                  0            720               1   \n",
       "1             5637144577                  0            740               1   \n",
       "2             5637144578                  0            763               1   \n",
       "3             5637144579                  0            782               1   \n",
       "4             5637144580                  0            802               1   \n",
       "\n",
       "   TRANSTYPE  PAYMENTSCHEDULEID  CASHDISCOUNTCODE       RECID  \\\n",
       "0          5                  1                 5  5637144576   \n",
       "1          5                  1                 5  5637144577   \n",
       "2          5                  1                 5  5637144578   \n",
       "3          5                  1                 5  5637144579   \n",
       "4          5                  1                 5  5637144580   \n",
       "\n",
       "   ACCOUNTINGCURRENCY  WASCOLLECTIONLETTERSENT  \\\n",
       "0                  11                        0   \n",
       "1                  11                        0   \n",
       "2                  11                        0   \n",
       "3                  11                        0   \n",
       "4                  11                        0   \n",
       "\n",
       "                     ...                      \\\n",
       "0                    ...                       \n",
       "1                    ...                       \n",
       "2                    ...                       \n",
       "3                    ...                       \n",
       "4                    ...                       \n",
       "\n",
       "   InvoiceAccount.MEAN(Invoice.ROW_UNIQUEKEY)  \\\n",
       "0                                     2986.29   \n",
       "1                                     3423.28   \n",
       "2                                     3307.62   \n",
       "3                                     4385.50   \n",
       "4                                     4533.59   \n",
       "\n",
       "   InvoiceAccount.MEAN(Invoice.ISCLOSED_VALUE)  \\\n",
       "0                                         1.00   \n",
       "1                                         0.90   \n",
       "2                                         1.00   \n",
       "3                                         0.93   \n",
       "4                                         0.96   \n",
       "\n",
       "   InvoiceAccount.MEAN(Invoice.RECID)  \\\n",
       "0                          5637145550   \n",
       "1                         15372649960   \n",
       "2                          5637145552   \n",
       "3                         12395974712   \n",
       "4                         10309914194   \n",
       "\n",
       "   InvoiceAccount.MEAN(Invoice.CASHDISCOUTPERCENT)  \\\n",
       "0                                             0.00   \n",
       "1                                             0.00   \n",
       "2                                             0.00   \n",
       "3                                             0.00   \n",
       "4                                             0.00   \n",
       "\n",
       "   InvoiceAccount.MEAN(Invoice.WASCOLLECTIONLETTERSENT_VALUE)  \\\n",
       "0                                               0.00            \n",
       "1                                               0.14            \n",
       "2                                               0.00            \n",
       "3                                               0.07            \n",
       "4                                               0.00            \n",
       "\n",
       "   InvoiceAccount.MEAN(Invoice.CUSTOMERRECID)  \\\n",
       "0                                 22565421558   \n",
       "1                                 22565421559   \n",
       "2                                 22565421560   \n",
       "3                                 22565421562   \n",
       "4                                 22565421563   \n",
       "\n",
       "   InvoiceAccount.MEAN(Invoice.INVOICEAMOUNTACCOUNTING)  \\\n",
       "0                                          319015.35      \n",
       "1                                          395029.40      \n",
       "2                                          301095.21      \n",
       "3                                          182984.92      \n",
       "4                                           80743.67      \n",
       "\n",
       "   InvoiceAccount.MEAN(Invoice.TRANSTYPE_VALUE)  \\\n",
       "0                                          2.00   \n",
       "1                                          3.21   \n",
       "2                                          2.00   \n",
       "3                                          2.82   \n",
       "4                                          2.44   \n",
       "\n",
       "   InvoiceAccount.COUNT(Invoice)  InvoiceAccount.NUM_CHARACTERS(CUSTOMERID)  \n",
       "0                             24                                          6  \n",
       "1                             29                                          6  \n",
       "2                             24                                          6  \n",
       "3                             28                                          6  \n",
       "4                             27                                          6  \n",
       "\n",
       "[5 rows x 67 columns]"
      ]
     },
     "execution_count": 43,
     "metadata": {},
     "output_type": "execute_result"
    }
   ],
   "source": [
    "data_df.head()"
   ]
  },
  {
   "cell_type": "code",
   "execution_count": 44,
   "metadata": {},
   "outputs": [
    {
     "data": {
      "text/plain": [
       "(14917, 67)"
      ]
     },
     "execution_count": 44,
     "metadata": {},
     "output_type": "execute_result"
    }
   ],
   "source": [
    "data_df.shape"
   ]
  },
  {
   "cell_type": "code",
   "execution_count": 45,
   "metadata": {},
   "outputs": [
    {
     "name": "stdout",
     "output_type": "stream",
     "text": [
      "33.04594302177429\n"
     ]
    }
   ],
   "source": [
    "start = time.time()\n",
    "predictions = onnxrt_wrapper.predict_proba(data_df)\n",
    "end = time.time()\n",
    "print(end - start)"
   ]
  },
  {
   "cell_type": "code",
   "execution_count": 46,
   "metadata": {
    "scrolled": true
   },
   "outputs": [
    {
     "name": "stdout",
     "output_type": "stream",
     "text": [
      "35.38013672828674\n"
     ]
    }
   ],
   "source": [
    "from azureml.explain.model.mimic.mimic_explainer import MimicExplainer\n",
    "from azureml.explain.model.mimic.models.lightgbm_model import LGBMExplainableModel\n",
    "start = time.time()\n",
    "explainer = MimicExplainer(onnxrt_wrapper, data_df, LGBMExplainableModel, augment_data=False)\n",
    "end = time.time()\n",
    "print(end - start)"
   ]
  },
  {
   "cell_type": "code",
   "execution_count": 49,
   "metadata": {},
   "outputs": [],
   "source": [
    "def explain(train_data):\n",
    "    explanation = explainer.explain_global(train_data, include_local=False)"
   ]
  },
  {
   "cell_type": "code",
   "execution_count": 50,
   "metadata": {},
   "outputs": [
    {
     "name": "stdout",
     "output_type": "stream",
     "text": [
      "52.213995695114136\n"
     ]
    }
   ],
   "source": [
    "sample = data_df.sample(1000)\n",
    "start = time.time()\n",
    "explain(sample)\n",
    "end = time.time()\n",
    "print(end - start)"
   ]
  },
  {
   "cell_type": "code",
   "execution_count": 51,
   "metadata": {},
   "outputs": [
    {
     "name": "stdout",
     "output_type": "stream",
     "text": [
      "97.92370271682739\n"
     ]
    }
   ],
   "source": [
    "sample = data_df.sample(2000)\n",
    "start = time.time()\n",
    "explain(sample)\n",
    "end = time.time()\n",
    "print(end - start)"
   ]
  },
  {
   "cell_type": "code",
   "execution_count": 52,
   "metadata": {},
   "outputs": [
    {
     "name": "stdout",
     "output_type": "stream",
     "text": [
      "239.50455570220947\n"
     ]
    }
   ],
   "source": [
    "sample = data_df.sample(5000)\n",
    "start = time.time()\n",
    "explain(sample)\n",
    "end = time.time()\n",
    "print(end - start)"
   ]
  },
  {
   "cell_type": "code",
   "execution_count": 54,
   "metadata": {},
   "outputs": [
    {
     "name": "stdout",
     "output_type": "stream",
     "text": [
      "689.9257900714874\n"
     ]
    }
   ],
   "source": [
    "start = time.time()\n",
    "explain(data_df)\n",
    "end = time.time()\n",
    "print(end - start)"
   ]
  },
  {
   "cell_type": "code",
   "execution_count": 55,
   "metadata": {},
   "outputs": [
    {
     "data": {
      "text/plain": [
       "(14917, 67)"
      ]
     },
     "execution_count": 55,
     "metadata": {},
     "output_type": "execute_result"
    }
   ],
   "source": [
    "data_df.shape"
   ]
  },
  {
   "cell_type": "code",
   "execution_count": null,
   "metadata": {},
   "outputs": [],
   "source": []
  }
 ],
 "metadata": {
  "kernelspec": {
   "display_name": "Python 3",
   "language": "python",
   "name": "python3"
  },
  "language_info": {
   "codemirror_mode": {
    "name": "ipython",
    "version": 3
   },
   "file_extension": ".py",
   "mimetype": "text/x-python",
   "name": "python",
   "nbconvert_exporter": "python",
   "pygments_lexer": "ipython3",
   "version": "3.6.5"
  }
 },
 "nbformat": 4,
 "nbformat_minor": 2
}
